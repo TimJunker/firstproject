{
 "cells": [
  {
   "cell_type": "code",
   "execution_count": 3,
   "id": "512c01c1",
   "metadata": {},
   "outputs": [
    {
     "name": "stdout",
     "output_type": "stream",
     "text": [
      "[1 2 3]\n"
     ]
    }
   ],
   "source": [
    "import numpy as np\n",
    "\n",
    "# Erstelle ein Array\n",
    "a = np.array([1, 2, 3])\n",
    "print(a)\n"
   ]
  },
  {
   "cell_type": "code",
   "execution_count": 1,
   "id": "102c1017",
   "metadata": {},
   "outputs": [
    {
     "name": "stdout",
     "output_type": "stream",
     "text": [
      "     year              winner  gender        country      time marathon\n",
      "0    2018      Dickson Chumba    Male          Kenya  02:05:30    Tokyo\n",
      "1    2018      Birhane Dibaba  Female       Ethiopia  02:19:51    Tokyo\n",
      "2    2017      Wilson Kipsang    Male          Kenya  02:03:58    Tokyo\n",
      "3    2017  Sarah Chepchirchir  Female          Kenya  02:19:47    Tokyo\n",
      "4    2016       Feyisa Lilesa    Male       Ethiopia  02:06:56    Tokyo\n",
      "..    ...                 ...     ...            ...       ...      ...\n",
      "531  1978      Mark Stanforth    Male  United States  02:19:20  Chicago\n",
      "532  1978        Lynae Larson  Female  United States  02:59:25  Chicago\n",
      "533  1977         Dan Cloeter    Male  United States  02:17:52  Chicago\n",
      "534  1977   Dorothy Doolittle  Female  United States  02:50:47  Chicago\n",
      "535  2018    Vivian Cheruiyot  Female          Kenya  02:18:31   London\n",
      "\n",
      "[536 rows x 6 columns]\n"
     ]
    }
   ],
   "source": [
    "import pandas as pd\n",
    "\n",
    "# Set the path to the file you'd like to load\n",
    "file_path = \"C:/Users/tim-j/Desktop/github_projects/data/world_marathon_majors.csv\"\n",
    "\n",
    "# Load the data with pandas\n",
    "df = pd.read_csv(file_path, encoding = 'ISO-8859-1')\n",
    "\n",
    "# Print the first 5 records\n",
    "print(df)\n"
   ]
  }
 ],
 "metadata": {
  "kernelspec": {
   "display_name": "venv",
   "language": "python",
   "name": "python3"
  },
  "language_info": {
   "codemirror_mode": {
    "name": "ipython",
    "version": 3
   },
   "file_extension": ".py",
   "mimetype": "text/x-python",
   "name": "python",
   "nbconvert_exporter": "python",
   "pygments_lexer": "ipython3",
   "version": "3.12.5"
  }
 },
 "nbformat": 4,
 "nbformat_minor": 5
}
